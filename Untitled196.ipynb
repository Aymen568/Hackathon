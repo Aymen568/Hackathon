{
 "cells": [
  {
   "cell_type": "code",
   "execution_count": 27,
   "id": "dda3e07f",
   "metadata": {},
   "outputs": [
    {
     "name": "stdout",
     "output_type": "stream",
     "text": [
      "Class: 3 Severe\n",
      "Confidence score: 0.9999993\n"
     ]
    }
   ],
   "source": [
    "from keras.models import load_model\n",
    "from PIL import Image, ImageOps \n",
    "import numpy as np\n",
    "\n",
    "\n",
    "np.set_printoptions(suppress=True)\n",
    "\n",
    "\n",
    "model = load_model('keras_model (3).h5', compile=False)\n",
    "\n",
    "\n",
    "class_names = open('labels (3).txt', 'r').readlines()\n",
    "\n",
    "\n",
    "data = np.ndarray(shape=(1, 224, 224, 3), dtype=np.float32)\n",
    "\n",
    "\n",
    "image = Image.open('C:/Users/DELL/Desktop/azerty.png').convert('RGB')\n",
    "\n",
    "\n",
    "size = (224, 224)\n",
    "image = ImageOps.fit(image, size)\n",
    "\n",
    "\n",
    "image_array = np.asarray(image)\n",
    "\n",
    "\n",
    "normalized_image_array = (image_array.astype(np.float32) / 127.0) - 1\n",
    "\n",
    "\n",
    "data[0] = normalized_image_array\n",
    "\n",
    "\n",
    "prediction = model.predict(data)\n",
    "index = np.argmax(prediction)\n",
    "class_name = class_names[index]\n",
    "confidence_score = prediction[0][index]\n",
    "\n",
    "print('Class:', class_name, end='')\n",
    "print('Confidence score:', confidence_score)\n"
   ]
  },
  {
   "cell_type": "code",
   "execution_count": null,
   "id": "7ede6101",
   "metadata": {},
   "outputs": [],
   "source": []
  },
  {
   "cell_type": "code",
   "execution_count": null,
   "id": "e4868ee1",
   "metadata": {},
   "outputs": [],
   "source": []
  }
 ],
 "metadata": {
  "kernelspec": {
   "display_name": "Python 3 (ipykernel)",
   "language": "python",
   "name": "python3"
  },
  "language_info": {
   "codemirror_mode": {
    "name": "ipython",
    "version": 3
   },
   "file_extension": ".py",
   "mimetype": "text/x-python",
   "name": "python",
   "nbconvert_exporter": "python",
   "pygments_lexer": "ipython3",
   "version": "3.9.12"
  }
 },
 "nbformat": 4,
 "nbformat_minor": 5
}
